{
 "cells": [
  {
   "attachments": {},
   "cell_type": "markdown",
   "metadata": {},
   "source": [
    "# Analisando um sistema de acordo com sua equação diferencial:\n",
    "\n",
    "A análise de circuitos RC é feita aplicando as leis de Kirchhoff tal qual foi feito para os circuitos resistivos (ver aula anterior). \n",
    "O objetivo da análise é determinar a resposta do circuito, que nesse caso é a tensão $v(t)$ no capacitor.\n",
    "\n",
    "Considere, portanto um circuito RC.\n",
    "\n",
    "A equação diferencial que explica o funcionamento desse sistema é definida abaixo:\n",
    "\n",
    "\\begin{equation}\n",
    "\\begin{split}\n",
    "& v'(t)+ \\frac{1}{CR}v(t) = 0 \\\\ & v'(t) = - \\frac{1}{CR}v(t)\n",
    "\\end{split}\n",
    "\\end{equation}\n",
    "\n",
    "\n",
    "\n"
   ]
  },
  {
   "attachments": {},
   "cell_type": "markdown",
   "metadata": {},
   "source": [
    "Vamos modelar e analisar rapidamente este sistema otilizando o pacote `scipy` do python:"
   ]
  },
  {
   "cell_type": "code",
   "execution_count": 2,
   "metadata": {},
   "outputs": [],
   "source": [
    "# importanto pacote \n",
    "\n",
    "import numpy as np\n",
    "from scipy.integrate import odeint\n",
    "import matplotlib.pyplot as plt"
   ]
  },
  {
   "cell_type": "code",
   "execution_count": 7,
   "metadata": {},
   "outputs": [],
   "source": [
    "# funcao que retorna dv/dt\n",
    "def dv_dt(v,t,r,c):\n",
    "    dvdt = -(1/(c*r)) * v\n",
    "    return dvdt"
   ]
  },
  {
   "cell_type": "code",
   "execution_count": 8,
   "metadata": {},
   "outputs": [
    {
     "data": {
      "image/png": "[encoded data removed]",
      "text/plain": [
       "<Figure size 640x480 with 1 Axes>"
      ]
     },
     "metadata": {},
     "output_type": "display_data"
    }
   ],
   "source": [
    "# Condicao inicial do sistema\n",
    "v_0 = 10 #volts\n",
    "# parametros do sistema\n",
    "C=0.2 #farad\n",
    "R=10 #ohm\n",
    "\n",
    "# Taxa de amostragem do sinal que iremos gerar\n",
    "taxa = 1000\n",
    "# Amostrando o sinal no tempo\n",
    "t = np.linspace(1, 10, taxa, endpoint=False)\n",
    "v = odeint(dv_dt, v_0,t, args=(R,C))\n",
    "\n",
    "# plot results\n",
    "plt.plot(t,v)\n",
    "plt.xlabel('Tempo')\n",
    "plt.ylabel('v(t) - Volts')\n",
    "plt.show() "
   ]
  },
  {
   "attachments": {},
   "cell_type": "markdown",
   "metadata": {},
   "source": [
    "# Analisando sistemas de acordo com suas propriedades"
   ]
  },
  {
   "attachments": {},
   "cell_type": "markdown",
   "metadata": {},
   "source": [
    "## Sistema Causal e não causal\n",
    "\n",
    "Para que o sistema seja **causal**, ele deve ser **independente apenas dos valores futuros**. Isso significa que a dependência passada não causará nenhum problema para o sistema se tornar causal.\n",
    "\n",
    "Os sistemas causais são sistemas praticamente ou fisicamente realizáveis. \n",
    "Vamos considerar alguns exemplos para entender isso muito melhor."
   ]
  },
  {
   "attachments": {},
   "cell_type": "markdown",
   "metadata": {},
   "source": [
    "### Ex. 1. \n",
    "\n",
    "$S: x(t) \\rightarrow y(t) = x(t)$"
   ]
  },
  {
   "cell_type": "code",
   "execution_count": null,
   "metadata": {},
   "outputs": [],
   "source": [
    "# importanto pacote \n",
    "\n",
    "import numpy as np\n",
    "from scipy.integrate import odeint\n",
    "import matplotlib.pyplot as plt\n",
    "plt.rcParams['text.usetex'] = True"
   ]
  },
  {
   "cell_type": "code",
   "execution_count": null,
   "metadata": {},
   "outputs": [],
   "source": [
    "# Taxa de amostragem do sinal \n",
    "taxa = 1000\n",
    "# Definindo o domínio no tempo\n",
    "t = np.linspace(0, 3, taxa, endpoint=False)\n",
    "\n",
    "# entrada = x(t)\n",
    "x_t = lambda x : x\n",
    "entrada = np.array([x_t(ti) for ti in t])"
   ]
  },
  {
   "cell_type": "code",
   "execution_count": null,
   "metadata": {},
   "outputs": [],
   "source": [
    "# Visualizando x(t)\n",
    "plt.plot(t,entrada, color='orange', linewidth=2)\n",
    "plt.xlabel('Tempo')\n",
    "plt.ylabel('Amplitude')\n",
    "plt.legend([\"$x(t)$\"])\n",
    "plt.grid()\n",
    "plt.show() "
   ]
  },
  {
   "cell_type": "code",
   "execution_count": null,
   "metadata": {},
   "outputs": [],
   "source": [
    "# saida = y(t)\n",
    "y_t = x_t\n",
    "saida = np.array([y_t(ti)for ti in t]) "
   ]
  },
  {
   "cell_type": "code",
   "execution_count": null,
   "metadata": {},
   "outputs": [],
   "source": [
    "# # Visualizando x(t) e y(t)\n",
    "plt.plot(t,entrada, color='orange', linewidth=2)\n",
    "plt.plot(t,saida, color='green', linestyle='dashed')\n",
    "plt.xlabel('Tempo')\n",
    "plt.ylabel('Amplitude')\n",
    "plt.legend([\"$x(t)$\", \"$y(t)$\"])\n",
    "plt.grid()\n",
    "plt.show() "
   ]
  },
  {
   "attachments": {},
   "cell_type": "markdown",
   "metadata": {},
   "source": [
    "Aqui, o sinal y depende apenas dos valores atuais de x. \n",
    "Por exemplo, se substituirmos t = 3, o resultado y será exibido apenas para aquele instante de tempo. Portanto, como não depende de valor futuro, podemos chamá-lo de **sistema Causal**."
   ]
  },
  {
   "attachments": {},
   "cell_type": "markdown",
   "metadata": {},
   "source": [
    "### Ex. 2. \n",
    "\n",
    "$S: x(t) \\rightarrow y(t) = x(t-1)$\n",
    "\n"
   ]
  },
  {
   "cell_type": "code",
   "execution_count": null,
   "metadata": {},
   "outputs": [],
   "source": [
    "# saida = y(t)\n",
    "y_t = lambda x: x_t(x-1)\n",
    "saida = np.array([y_t(ti)for ti in t]) "
   ]
  },
  {
   "cell_type": "code",
   "execution_count": null,
   "metadata": {},
   "outputs": [],
   "source": [
    "# Visualizando x(t) e x(t)\n",
    "plt.plot(t,entrada, color='orange', linewidth=2)\n",
    "plt.plot(t,saida, color='green', linestyle='dashed')\n",
    "plt.xlabel('Tempo')\n",
    "plt.ylabel('Amplitude')\n",
    "plt.legend([\"$x(t)$\", \"$y(t)$\"])\n",
    "plt.grid()\n",
    "plt.show() "
   ]
  },
  {
   "attachments": {},
   "cell_type": "markdown",
   "metadata": {},
   "source": [
    "Aqui, o sistema depende de valores passados de x. \n",
    "Por exemplo, se substituirmos $t = 3$, a expressão será reduzida para $x(t=2)$, que é um valor passado em relação à nossa entrada. Em nenhum caso,$y(t)$ depende de valores futuros. Portanto, esse sistema também é um **sistema causal**."
   ]
  },
  {
   "attachments": {},
   "cell_type": "markdown",
   "metadata": {},
   "source": [
    "### Ex. 3. \n",
    "\n",
    "$S: x(t) \\rightarrow y(t)=x(t)+x(t+1)$"
   ]
  },
  {
   "cell_type": "code",
   "execution_count": null,
   "metadata": {},
   "outputs": [],
   "source": [
    "# saida = y(t)\n",
    "y_t = lambda x: x_t(x) + x_t(x+1)\n",
    "saida = np.array([y_t(ti)for ti in t]) "
   ]
  },
  {
   "cell_type": "code",
   "execution_count": null,
   "metadata": {},
   "outputs": [],
   "source": [
    "# Visualizando x(t) e y(t)\n",
    "plt.plot(t,entrada, color='orange', linewidth=2)\n",
    "plt.plot(t,saida, color='green', linestyle='dashed')\n",
    "plt.xlabel('Tempo')\n",
    "plt.ylabel('Amplitude')\n",
    "plt.legend([\"$x(t)$\", \"$y(t)$\"])\n",
    "plt.grid()\n",
    "plt.show() "
   ]
  },
  {
   "attachments": {},
   "cell_type": "markdown",
   "metadata": {},
   "source": [
    "Neste caso, o sistema tem duas partes:\n",
    "* a parte $x(t)$, como discutimos anteriormente, depende apenas dos valores presentes. Portanto, não há nenhum problema com isso. \n",
    "* No entanto, $x(t+1)$ depende claramente dos valores futuros porque se colocarmos t = 1, a expressão se reduzirá a $x(t=2)$ que é o valor futuro. Portanto, o sistema **não é causal**."
   ]
  },
  {
   "attachments": {},
   "cell_type": "markdown",
   "metadata": {},
   "source": [
    "<!-- A equação diferencial ordinária que governa o movimento do pêndulo é a chamada \"equação de Mathieu\":\n",
    "\n",
    "$$\\theta''(t) + \\frac{g}{l} \\sin(\\theta) = 0$$\n",
    "\n",
    "![Pendulo](figs/PenduloTmg.gif) -->"
   ]
  },
  {
   "attachments": {},
   "cell_type": "markdown",
   "metadata": {},
   "source": [
    "## Sistema Linear e não linear"
   ]
  },
  {
   "attachments": {},
   "cell_type": "markdown",
   "metadata": {},
   "source": [
    "### Ex. 1.\n",
    "\n",
    "$S: x(t) \\rightarrow y(t) = sen(t)x(t)$"
   ]
  },
  {
   "cell_type": "code",
   "execution_count": null,
   "metadata": {},
   "outputs": [],
   "source": [
    "# Taxa de amostragem do sinal \n",
    "taxa = 1000\n",
    "# Definindo o domínio no tempo\n",
    "t = np.linspace(0, 3, taxa, endpoint=False)\n",
    "a = 1\n",
    "b = 1\n",
    "\n",
    "# entrada : x_3(t) = a*x_1(t) + b*x_2(t)\n",
    "x_t_1 = lambda x : x\n",
    "x_t_2 = lambda x : x**2\n",
    "x_t_3 = lambda x: a*x_t_1(x) + b*x_t_2(x)\n",
    "\n",
    "entrada_1 = np.array([x_t_1(ti) for ti in t])\n",
    "entrada_2 = np.array([x_t_2(ti) for ti in t])\n",
    "entrada_3 = np.array([x_t_3(ti) for ti in t])"
   ]
  },
  {
   "cell_type": "code",
   "execution_count": null,
   "metadata": {},
   "outputs": [],
   "source": [
    "# Visualizando x_1(t), x_2(t) e x_3(t)\n",
    "plt.plot(t,entrada_1, color='orange', linewidth=2)\n",
    "plt.plot(t,entrada_2, color='brown', linewidth=2)\n",
    "plt.plot(t,entrada_3, color='magenta', linewidth=2)\n",
    "plt.xlabel('Tempo')\n",
    "plt.ylabel('Amplitude')\n",
    "plt.legend([\"$x_1(t)$\", \"$x_2(t)$\", \"$x_3(t)= ax_1(t) + bx_2(t)$\"])\n",
    "plt.grid()\n",
    "plt.show() "
   ]
  },
  {
   "cell_type": "code",
   "execution_count": null,
   "metadata": {},
   "outputs": [],
   "source": [
    "# saida y_3(t)\n",
    "y_t_3 = lambda x: x_t_3(x)*np.sin(x)\n",
    "saida_3 = np.array([y_t_3(ti) for ti in t]) \n",
    "\n",
    "# plot results\n",
    "plt.plot(t,entrada_3, color='magenta', linewidth=2)\n",
    "plt.plot(t,saida_3, color='green', linestyle='dashed')\n",
    "plt.xlabel('Tempo')\n",
    "plt.ylabel('Amplitude')\n",
    "plt.legend([\"$x_3(t)$\", \"$y_3(t)$\"])\n",
    "plt.grid()\n",
    "plt.show() "
   ]
  },
  {
   "cell_type": "code",
   "execution_count": null,
   "metadata": {},
   "outputs": [],
   "source": [
    "# para verificar se o sistema eh linear precisamos computar a saída esperada y_3_1(t) como combinação de y_1 e y_2\n",
    "y_t_1 = lambda x: x_t_1(x)*np.sin(x)\n",
    "y_t_2 = lambda x: x_t_2(x)*np.sin(x)\n",
    "y_t_3_1 = lambda x: a*y_t_1(x) + b*y_t_2(x)\n",
    "\n",
    "saida_3_1 = np.array([y_t_3_1(ti) for ti in t]) "
   ]
  },
  {
   "cell_type": "code",
   "execution_count": null,
   "metadata": {},
   "outputs": [],
   "source": [
    "# visualidando a saida do sistema y_3 e a saída esperada y_3_1\n",
    "plt.plot(t,saida_3)\n",
    "plt.plot(t,saida_3_1)\n",
    "plt.xlabel('Tempo')\n",
    "plt.ylabel('Amplitude')\n",
    "plt.legend([\"saida sistema: $y_3(t)$\", \"saida esperada: $y_3(t) = ay_1(t) + by_2(t)$\"])\n",
    "plt.grid()\n",
    "plt.show() "
   ]
  }
 ],
 "metadata": {
  "kernelspec": {
   "display_name": ".venv",
   "language": "python",
   "name": "python3"
  },
  "language_info": {
   "codemirror_mode": {
    "name": "ipython",
    "version": 3
   },
   "file_extension": ".py",
   "mimetype": "text/x-python",
   "name": "python",
   "nbconvert_exporter": "python",
   "pygments_lexer": "ipython3",
   "version": "3.9.13"
  },
  "orig_nbformat": 4
 },
 "nbformat": 4,
 "nbformat_minor": 2
}
