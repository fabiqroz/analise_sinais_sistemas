{
 "cells": [
  {
   "attachments": {},
   "cell_type": "markdown",
   "metadata": {},
   "source": [
    "# Transformada de Fourier"
   ]
  },
  {
   "attachments": {},
   "cell_type": "markdown",
   "metadata": {},
   "source": [
    "A série de Fourier fornece uma representação extremamente útil para **funções periódicas**. No entanto, **muitas vezes precisamos lidar com funções que não são periódicas**. \n",
    "\n",
    "Uma ferramenta mais geral do que a série de Fourier é necessária neste caso. É aí que entra a **transformada de Fourier**!"
   ]
  },
  {
   "attachments": {},
   "cell_type": "markdown",
   "metadata": {},
   "source": [
    "Para uma melhor compreensão do conteúdo, Vamos continuar de inde paramos: Nos sinais periódicos.\n",
    "\n",
    "## A Transformada de Fourier de Tempo Contínuo para funções periódicas\n",
    "\n",
    "Como demenstrado no módulo anterior, as séries de Fourier são extremamente úteis para representação de funcões:"
   ]
  },
  {
   "cell_type": "code",
   "execution_count": null,
   "metadata": {},
   "outputs": [],
   "source": [
    "import numpy as np\n",
    "import matplotlib.pyplot as plt\n",
    "from scipy.signal import square\n",
    "from scipy.integrate import quad\n",
    "import math "
   ]
  },
  {
   "cell_type": "code",
   "execution_count": null,
   "metadata": {},
   "outputs": [],
   "source": [
    "t = np.arange(-np.pi, np.pi,0.001) // #x axis has been chosen from –-pi to pi , value  of 1 smallest square along x axis is 0.001 \n",
    "x = np.square(t) \n",
    "\n",
    "x_1 = lambda x:square(t)* np.cos(t) "
   ]
  },
  {
   "cell_type": "code",
   "execution_count": null,
   "metadata": {},
   "outputs": [],
   "source": [
    "\n",
    "    "
   ]
  },
  {
   "cell_type": "code",
   "execution_count": null,
   "metadata": {},
   "outputs": [],
   "source": []
  },
  {
   "cell_type": "code",
   "execution_count": null,
   "metadata": {},
   "outputs": [],
   "source": []
  },
  {
   "cell_type": "code",
   "execution_count": null,
   "metadata": {},
   "outputs": [],
   "source": []
  }
 ],
 "metadata": {
  "language_info": {
   "name": "python"
  },
  "orig_nbformat": 4
 },
 "nbformat": 4,
 "nbformat_minor": 2
}
